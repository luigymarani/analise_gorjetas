{
 "cells": [
  {
   "cell_type": "markdown",
   "id": "21644429",
   "metadata": {},
   "source": [
    "# Importando base de dados"
   ]
  },
  {
   "cell_type": "code",
   "execution_count": 98,
   "id": "8599ab38",
   "metadata": {},
   "outputs": [
    {
     "data": {
      "text/html": [
       "<div>\n",
       "<style scoped>\n",
       "    .dataframe tbody tr th:only-of-type {\n",
       "        vertical-align: middle;\n",
       "    }\n",
       "\n",
       "    .dataframe tbody tr th {\n",
       "        vertical-align: top;\n",
       "    }\n",
       "\n",
       "    .dataframe thead th {\n",
       "        text-align: right;\n",
       "    }\n",
       "</style>\n",
       "<table border=\"1\" class=\"dataframe\">\n",
       "  <thead>\n",
       "    <tr style=\"text-align: right;\">\n",
       "      <th></th>\n",
       "      <th>total_bill</th>\n",
       "      <th>tip</th>\n",
       "      <th>dessert</th>\n",
       "      <th>day</th>\n",
       "      <th>time</th>\n",
       "      <th>size</th>\n",
       "    </tr>\n",
       "  </thead>\n",
       "  <tbody>\n",
       "    <tr>\n",
       "      <th>0</th>\n",
       "      <td>16.99</td>\n",
       "      <td>1.01</td>\n",
       "      <td>No</td>\n",
       "      <td>Sun</td>\n",
       "      <td>Dinner</td>\n",
       "      <td>2</td>\n",
       "    </tr>\n",
       "    <tr>\n",
       "      <th>1</th>\n",
       "      <td>10.34</td>\n",
       "      <td>1.66</td>\n",
       "      <td>No</td>\n",
       "      <td>Sun</td>\n",
       "      <td>Dinner</td>\n",
       "      <td>3</td>\n",
       "    </tr>\n",
       "    <tr>\n",
       "      <th>2</th>\n",
       "      <td>21.01</td>\n",
       "      <td>3.50</td>\n",
       "      <td>No</td>\n",
       "      <td>Sun</td>\n",
       "      <td>Dinner</td>\n",
       "      <td>3</td>\n",
       "    </tr>\n",
       "    <tr>\n",
       "      <th>3</th>\n",
       "      <td>23.68</td>\n",
       "      <td>3.31</td>\n",
       "      <td>No</td>\n",
       "      <td>Sun</td>\n",
       "      <td>Dinner</td>\n",
       "      <td>2</td>\n",
       "    </tr>\n",
       "    <tr>\n",
       "      <th>4</th>\n",
       "      <td>24.59</td>\n",
       "      <td>3.61</td>\n",
       "      <td>No</td>\n",
       "      <td>Sun</td>\n",
       "      <td>Dinner</td>\n",
       "      <td>4</td>\n",
       "    </tr>\n",
       "  </tbody>\n",
       "</table>\n",
       "</div>"
      ],
      "text/plain": [
       "   total_bill   tip dessert  day    time  size\n",
       "0       16.99  1.01      No  Sun  Dinner     2\n",
       "1       10.34  1.66      No  Sun  Dinner     3\n",
       "2       21.01  3.50      No  Sun  Dinner     3\n",
       "3       23.68  3.31      No  Sun  Dinner     2\n",
       "4       24.59  3.61      No  Sun  Dinner     4"
      ]
     },
     "execution_count": 98,
     "metadata": {},
     "output_type": "execute_result"
    }
   ],
   "source": [
    "import pandas as pd  # importando o Pandas\n",
    "df = pd.read_csv('tips.csv')  # criando o dataframe inicial a partir do arquivo tips.csv\n",
    "df.head()"
   ]
  },
  {
   "cell_type": "markdown",
   "id": "0da5e9c9",
   "metadata": {},
   "source": [
    "# Tradução dos campos e colunas"
   ]
  },
  {
   "cell_type": "markdown",
   "id": "0f65cb4d",
   "metadata": {},
   "source": [
    "## Tradução das colunas"
   ]
  },
  {
   "cell_type": "code",
   "execution_count": 99,
   "id": "a9fbcdaf",
   "metadata": {},
   "outputs": [
    {
     "data": {
      "text/plain": [
       "Index(['total_bill', 'tip', 'dessert', 'day', 'time', 'size'], dtype='object')"
      ]
     },
     "execution_count": 99,
     "metadata": {},
     "output_type": "execute_result"
    }
   ],
   "source": [
    "df.columns  # retorna os nomes das colunas do DF"
   ]
  },
  {
   "cell_type": "code",
   "execution_count": 100,
   "id": "437e5a40",
   "metadata": {},
   "outputs": [
    {
     "data": {
      "text/html": [
       "<div>\n",
       "<style scoped>\n",
       "    .dataframe tbody tr th:only-of-type {\n",
       "        vertical-align: middle;\n",
       "    }\n",
       "\n",
       "    .dataframe tbody tr th {\n",
       "        vertical-align: top;\n",
       "    }\n",
       "\n",
       "    .dataframe thead th {\n",
       "        text-align: right;\n",
       "    }\n",
       "</style>\n",
       "<table border=\"1\" class=\"dataframe\">\n",
       "  <thead>\n",
       "    <tr style=\"text-align: right;\">\n",
       "      <th></th>\n",
       "      <th>conta_total</th>\n",
       "      <th>gorjeta</th>\n",
       "      <th>sobremesa</th>\n",
       "      <th>dia_da_semana</th>\n",
       "      <th>horário</th>\n",
       "      <th>pessoas_na_mesa</th>\n",
       "    </tr>\n",
       "  </thead>\n",
       "  <tbody>\n",
       "    <tr>\n",
       "      <th>0</th>\n",
       "      <td>16.99</td>\n",
       "      <td>1.01</td>\n",
       "      <td>No</td>\n",
       "      <td>Sun</td>\n",
       "      <td>Dinner</td>\n",
       "      <td>2</td>\n",
       "    </tr>\n",
       "    <tr>\n",
       "      <th>1</th>\n",
       "      <td>10.34</td>\n",
       "      <td>1.66</td>\n",
       "      <td>No</td>\n",
       "      <td>Sun</td>\n",
       "      <td>Dinner</td>\n",
       "      <td>3</td>\n",
       "    </tr>\n",
       "    <tr>\n",
       "      <th>2</th>\n",
       "      <td>21.01</td>\n",
       "      <td>3.50</td>\n",
       "      <td>No</td>\n",
       "      <td>Sun</td>\n",
       "      <td>Dinner</td>\n",
       "      <td>3</td>\n",
       "    </tr>\n",
       "    <tr>\n",
       "      <th>3</th>\n",
       "      <td>23.68</td>\n",
       "      <td>3.31</td>\n",
       "      <td>No</td>\n",
       "      <td>Sun</td>\n",
       "      <td>Dinner</td>\n",
       "      <td>2</td>\n",
       "    </tr>\n",
       "    <tr>\n",
       "      <th>4</th>\n",
       "      <td>24.59</td>\n",
       "      <td>3.61</td>\n",
       "      <td>No</td>\n",
       "      <td>Sun</td>\n",
       "      <td>Dinner</td>\n",
       "      <td>4</td>\n",
       "    </tr>\n",
       "    <tr>\n",
       "      <th>...</th>\n",
       "      <td>...</td>\n",
       "      <td>...</td>\n",
       "      <td>...</td>\n",
       "      <td>...</td>\n",
       "      <td>...</td>\n",
       "      <td>...</td>\n",
       "    </tr>\n",
       "    <tr>\n",
       "      <th>239</th>\n",
       "      <td>29.03</td>\n",
       "      <td>5.92</td>\n",
       "      <td>No</td>\n",
       "      <td>Sat</td>\n",
       "      <td>Dinner</td>\n",
       "      <td>3</td>\n",
       "    </tr>\n",
       "    <tr>\n",
       "      <th>240</th>\n",
       "      <td>27.18</td>\n",
       "      <td>2.00</td>\n",
       "      <td>Yes</td>\n",
       "      <td>Sat</td>\n",
       "      <td>Dinner</td>\n",
       "      <td>2</td>\n",
       "    </tr>\n",
       "    <tr>\n",
       "      <th>241</th>\n",
       "      <td>22.67</td>\n",
       "      <td>2.00</td>\n",
       "      <td>Yes</td>\n",
       "      <td>Sat</td>\n",
       "      <td>Dinner</td>\n",
       "      <td>2</td>\n",
       "    </tr>\n",
       "    <tr>\n",
       "      <th>242</th>\n",
       "      <td>17.82</td>\n",
       "      <td>1.75</td>\n",
       "      <td>No</td>\n",
       "      <td>Sat</td>\n",
       "      <td>Dinner</td>\n",
       "      <td>2</td>\n",
       "    </tr>\n",
       "    <tr>\n",
       "      <th>243</th>\n",
       "      <td>18.78</td>\n",
       "      <td>3.00</td>\n",
       "      <td>No</td>\n",
       "      <td>Thur</td>\n",
       "      <td>Dinner</td>\n",
       "      <td>2</td>\n",
       "    </tr>\n",
       "  </tbody>\n",
       "</table>\n",
       "<p>244 rows × 6 columns</p>\n",
       "</div>"
      ],
      "text/plain": [
       "     conta_total  gorjeta sobremesa dia_da_semana horário  pessoas_na_mesa\n",
       "0          16.99     1.01        No           Sun  Dinner                2\n",
       "1          10.34     1.66        No           Sun  Dinner                3\n",
       "2          21.01     3.50        No           Sun  Dinner                3\n",
       "3          23.68     3.31        No           Sun  Dinner                2\n",
       "4          24.59     3.61        No           Sun  Dinner                4\n",
       "..           ...      ...       ...           ...     ...              ...\n",
       "239        29.03     5.92        No           Sat  Dinner                3\n",
       "240        27.18     2.00       Yes           Sat  Dinner                2\n",
       "241        22.67     2.00       Yes           Sat  Dinner                2\n",
       "242        17.82     1.75        No           Sat  Dinner                2\n",
       "243        18.78     3.00        No          Thur  Dinner                2\n",
       "\n",
       "[244 rows x 6 columns]"
      ]
     },
     "execution_count": 100,
     "metadata": {},
     "output_type": "execute_result"
    }
   ],
   "source": [
    "renomear = { \n",
    "    'total_bill': 'conta_total',\n",
    "    'tip': 'gorjeta',\n",
    "    'dessert': 'sobremesa',\n",
    "    'day': 'dia_da_semana',\n",
    "    'time': 'horário',\n",
    "    'size': 'pessoas_na_mesa'\n",
    "}  # dicionário com os nomes das colunas e suas traduções:\n",
    "dft = df.rename(columns=renomear)  # renomeando as colunas de acordo com a variável acima\n",
    "dft"
   ]
  },
  {
   "cell_type": "markdown",
   "id": "6edf2e15",
   "metadata": {},
   "source": [
    "## Tradução dos campos"
   ]
  },
  {
   "cell_type": "code",
   "execution_count": 101,
   "id": "fc7e3ed5",
   "metadata": {},
   "outputs": [
    {
     "data": {
      "text/plain": [
       "array(['Dinner', 'Lunch'], dtype=object)"
      ]
     },
     "execution_count": 101,
     "metadata": {},
     "output_type": "execute_result"
    }
   ],
   "source": [
    "dft.horário.unique()  # verificando os valores únicos na coluna 'horário'"
   ]
  },
  {
   "cell_type": "code",
   "execution_count": 102,
   "id": "977ee8a5",
   "metadata": {},
   "outputs": [
    {
     "data": {
      "text/html": [
       "<div>\n",
       "<style scoped>\n",
       "    .dataframe tbody tr th:only-of-type {\n",
       "        vertical-align: middle;\n",
       "    }\n",
       "\n",
       "    .dataframe tbody tr th {\n",
       "        vertical-align: top;\n",
       "    }\n",
       "\n",
       "    .dataframe thead th {\n",
       "        text-align: right;\n",
       "    }\n",
       "</style>\n",
       "<table border=\"1\" class=\"dataframe\">\n",
       "  <thead>\n",
       "    <tr style=\"text-align: right;\">\n",
       "      <th></th>\n",
       "      <th>conta_total</th>\n",
       "      <th>gorjeta</th>\n",
       "      <th>sobremesa</th>\n",
       "      <th>dia_da_semana</th>\n",
       "      <th>horário</th>\n",
       "      <th>pessoas_na_mesa</th>\n",
       "    </tr>\n",
       "  </thead>\n",
       "  <tbody>\n",
       "    <tr>\n",
       "      <th>0</th>\n",
       "      <td>16.99</td>\n",
       "      <td>1.01</td>\n",
       "      <td>Não</td>\n",
       "      <td>Domingo</td>\n",
       "      <td>Jantar</td>\n",
       "      <td>2</td>\n",
       "    </tr>\n",
       "    <tr>\n",
       "      <th>1</th>\n",
       "      <td>10.34</td>\n",
       "      <td>1.66</td>\n",
       "      <td>Não</td>\n",
       "      <td>Domingo</td>\n",
       "      <td>Jantar</td>\n",
       "      <td>3</td>\n",
       "    </tr>\n",
       "    <tr>\n",
       "      <th>2</th>\n",
       "      <td>21.01</td>\n",
       "      <td>3.50</td>\n",
       "      <td>Não</td>\n",
       "      <td>Domingo</td>\n",
       "      <td>Jantar</td>\n",
       "      <td>3</td>\n",
       "    </tr>\n",
       "    <tr>\n",
       "      <th>3</th>\n",
       "      <td>23.68</td>\n",
       "      <td>3.31</td>\n",
       "      <td>Não</td>\n",
       "      <td>Domingo</td>\n",
       "      <td>Jantar</td>\n",
       "      <td>2</td>\n",
       "    </tr>\n",
       "    <tr>\n",
       "      <th>4</th>\n",
       "      <td>24.59</td>\n",
       "      <td>3.61</td>\n",
       "      <td>Não</td>\n",
       "      <td>Domingo</td>\n",
       "      <td>Jantar</td>\n",
       "      <td>4</td>\n",
       "    </tr>\n",
       "    <tr>\n",
       "      <th>...</th>\n",
       "      <td>...</td>\n",
       "      <td>...</td>\n",
       "      <td>...</td>\n",
       "      <td>...</td>\n",
       "      <td>...</td>\n",
       "      <td>...</td>\n",
       "    </tr>\n",
       "    <tr>\n",
       "      <th>239</th>\n",
       "      <td>29.03</td>\n",
       "      <td>5.92</td>\n",
       "      <td>Não</td>\n",
       "      <td>Sábado</td>\n",
       "      <td>Jantar</td>\n",
       "      <td>3</td>\n",
       "    </tr>\n",
       "    <tr>\n",
       "      <th>240</th>\n",
       "      <td>27.18</td>\n",
       "      <td>2.00</td>\n",
       "      <td>Sim</td>\n",
       "      <td>Sábado</td>\n",
       "      <td>Jantar</td>\n",
       "      <td>2</td>\n",
       "    </tr>\n",
       "    <tr>\n",
       "      <th>241</th>\n",
       "      <td>22.67</td>\n",
       "      <td>2.00</td>\n",
       "      <td>Sim</td>\n",
       "      <td>Sábado</td>\n",
       "      <td>Jantar</td>\n",
       "      <td>2</td>\n",
       "    </tr>\n",
       "    <tr>\n",
       "      <th>242</th>\n",
       "      <td>17.82</td>\n",
       "      <td>1.75</td>\n",
       "      <td>Não</td>\n",
       "      <td>Sábado</td>\n",
       "      <td>Jantar</td>\n",
       "      <td>2</td>\n",
       "    </tr>\n",
       "    <tr>\n",
       "      <th>243</th>\n",
       "      <td>18.78</td>\n",
       "      <td>3.00</td>\n",
       "      <td>Não</td>\n",
       "      <td>Quinta</td>\n",
       "      <td>Jantar</td>\n",
       "      <td>2</td>\n",
       "    </tr>\n",
       "  </tbody>\n",
       "</table>\n",
       "<p>244 rows × 6 columns</p>\n",
       "</div>"
      ],
      "text/plain": [
       "     conta_total  gorjeta sobremesa dia_da_semana horário  pessoas_na_mesa\n",
       "0          16.99     1.01       Não       Domingo  Jantar                2\n",
       "1          10.34     1.66       Não       Domingo  Jantar                3\n",
       "2          21.01     3.50       Não       Domingo  Jantar                3\n",
       "3          23.68     3.31       Não       Domingo  Jantar                2\n",
       "4          24.59     3.61       Não       Domingo  Jantar                4\n",
       "..           ...      ...       ...           ...     ...              ...\n",
       "239        29.03     5.92       Não        Sábado  Jantar                3\n",
       "240        27.18     2.00       Sim        Sábado  Jantar                2\n",
       "241        22.67     2.00       Sim        Sábado  Jantar                2\n",
       "242        17.82     1.75       Não        Sábado  Jantar                2\n",
       "243        18.78     3.00       Não        Quinta  Jantar                2\n",
       "\n",
       "[244 rows x 6 columns]"
      ]
     },
     "execution_count": 102,
     "metadata": {},
     "output_type": "execute_result"
    }
   ],
   "source": [
    "# colunas 'sobremesa', 'dia_da_semana' e 'horário':\n",
    "dft['sobremesa'] = dft['sobremesa'].map({'No': 'Não', 'Yes': 'Sim'})\n",
    "dft['dia_da_semana'] = dft['dia_da_semana'].map({'Sun': 'Domingo', \n",
    "                                                 'Sat': 'Sábado',\n",
    "                                                 'Thur': 'Quinta',\n",
    "                                                 'Fri': 'Sexta',})\n",
    "dft['horário'] = dft['horário'].map({'Dinner': 'Jantar', 'Lunch': 'Almoço'})\n",
    "dft"
   ]
  },
  {
   "cell_type": "markdown",
   "id": "3ce4876a",
   "metadata": {},
   "source": [
    "# Iniciando com Seaborn"
   ]
  },
  {
   "cell_type": "code",
   "execution_count": 106,
   "id": "cbe70c8a",
   "metadata": {},
   "outputs": [
    {
     "name": "stdout",
     "output_type": "stream",
     "text": [
      "Name: seaborn\n",
      "Version: 0.11.2\n",
      "Summary: seaborn: statistical data visualization\n",
      "Home-page: https://seaborn.pydata.org\n",
      "Author: Michael Waskom\n",
      "Author-email: mwaskom@gmail.com\n",
      "License: BSD (3-clause)\n",
      "Location: c:\\users\\luigy\\anaconda3\\lib\\site-packages\n",
      "Requires: pandas, scipy, matplotlib, numpy\n",
      "Required-by: \n"
     ]
    }
   ],
   "source": [
    "# importando:\n",
    "import seaborn as sns  \n",
    "# verificando qual a versão:\n",
    "!pip show seaborn"
   ]
  },
  {
   "cell_type": "markdown",
   "id": "b5c49e1b",
   "metadata": {},
   "source": [
    "# Análise 1: valor da conta e gorjeta"
   ]
  },
  {
   "cell_type": "markdown",
   "id": "a73bdfd2",
   "metadata": {},
   "source": [
    "#### Relembrando colunas:"
   ]
  },
  {
   "cell_type": "code",
   "execution_count": 104,
   "id": "4bfd0b43",
   "metadata": {},
   "outputs": [
    {
     "data": {
      "text/html": [
       "<div>\n",
       "<style scoped>\n",
       "    .dataframe tbody tr th:only-of-type {\n",
       "        vertical-align: middle;\n",
       "    }\n",
       "\n",
       "    .dataframe tbody tr th {\n",
       "        vertical-align: top;\n",
       "    }\n",
       "\n",
       "    .dataframe thead th {\n",
       "        text-align: right;\n",
       "    }\n",
       "</style>\n",
       "<table border=\"1\" class=\"dataframe\">\n",
       "  <thead>\n",
       "    <tr style=\"text-align: right;\">\n",
       "      <th></th>\n",
       "      <th>conta_total</th>\n",
       "      <th>gorjeta</th>\n",
       "      <th>sobremesa</th>\n",
       "      <th>dia_da_semana</th>\n",
       "      <th>horário</th>\n",
       "      <th>pessoas_na_mesa</th>\n",
       "    </tr>\n",
       "  </thead>\n",
       "  <tbody>\n",
       "    <tr>\n",
       "      <th>0</th>\n",
       "      <td>16.99</td>\n",
       "      <td>1.01</td>\n",
       "      <td>Não</td>\n",
       "      <td>Domingo</td>\n",
       "      <td>Jantar</td>\n",
       "      <td>2</td>\n",
       "    </tr>\n",
       "    <tr>\n",
       "      <th>1</th>\n",
       "      <td>10.34</td>\n",
       "      <td>1.66</td>\n",
       "      <td>Não</td>\n",
       "      <td>Domingo</td>\n",
       "      <td>Jantar</td>\n",
       "      <td>3</td>\n",
       "    </tr>\n",
       "    <tr>\n",
       "      <th>2</th>\n",
       "      <td>21.01</td>\n",
       "      <td>3.50</td>\n",
       "      <td>Não</td>\n",
       "      <td>Domingo</td>\n",
       "      <td>Jantar</td>\n",
       "      <td>3</td>\n",
       "    </tr>\n",
       "    <tr>\n",
       "      <th>3</th>\n",
       "      <td>23.68</td>\n",
       "      <td>3.31</td>\n",
       "      <td>Não</td>\n",
       "      <td>Domingo</td>\n",
       "      <td>Jantar</td>\n",
       "      <td>2</td>\n",
       "    </tr>\n",
       "    <tr>\n",
       "      <th>4</th>\n",
       "      <td>24.59</td>\n",
       "      <td>3.61</td>\n",
       "      <td>Não</td>\n",
       "      <td>Domingo</td>\n",
       "      <td>Jantar</td>\n",
       "      <td>4</td>\n",
       "    </tr>\n",
       "  </tbody>\n",
       "</table>\n",
       "</div>"
      ],
      "text/plain": [
       "   conta_total  gorjeta sobremesa dia_da_semana horário  pessoas_na_mesa\n",
       "0        16.99     1.01       Não       Domingo  Jantar                2\n",
       "1        10.34     1.66       Não       Domingo  Jantar                3\n",
       "2        21.01     3.50       Não       Domingo  Jantar                3\n",
       "3        23.68     3.31       Não       Domingo  Jantar                2\n",
       "4        24.59     3.61       Não       Domingo  Jantar                4"
      ]
     },
     "execution_count": 104,
     "metadata": {},
     "output_type": "execute_result"
    }
   ],
   "source": [
    "dft.head()"
   ]
  },
  {
   "cell_type": "markdown",
   "id": "4b948670",
   "metadata": {},
   "source": [
    "## Plotando gráfico de dispersão"
   ]
  },
  {
   "cell_type": "code",
   "execution_count": 105,
   "id": "8556f562",
   "metadata": {},
   "outputs": [
    {
     "data": {
      "text/plain": [
       "<AxesSubplot:xlabel='conta_total', ylabel='gorjeta'>"
      ]
     },
     "execution_count": 105,
     "metadata": {},
     "output_type": "execute_result"
    },
    {
     "data": {
      "image/png": "[encoded data removed]",
      "text/plain": [
       "<Figure size 432x288 with 1 Axes>"
      ]
     },
     "metadata": {
      "needs_background": "light"
     },
     "output_type": "display_data"
    }
   ],
   "source": [
    "sns.scatterplot(x='conta_total', y='gorjeta', data=dft)"
   ]
  },
  {
   "cell_type": "code",
   "execution_count": 107,
   "id": "a21a8ab6",
   "metadata": {},
   "outputs": [
    {
     "data": {
      "text/plain": [
       "(244, 6)"
      ]
     },
     "execution_count": 107,
     "metadata": {},
     "output_type": "execute_result"
    }
   ],
   "source": [
    "#mostrando o tamanho do DF (linhas/colunas):\n",
    "dft.shape"
   ]
  },
  {
   "cell_type": "markdown",
   "id": "024db390",
   "metadata": {},
   "source": [
    "## Criando o campo porcentagem"
   ]
  },
  {
   "cell_type": "code",
   "execution_count": 109,
   "id": "20408e3b",
   "metadata": {},
   "outputs": [
    {
     "data": {
      "text/html": [
       "<div>\n",
       "<style scoped>\n",
       "    .dataframe tbody tr th:only-of-type {\n",
       "        vertical-align: middle;\n",
       "    }\n",
       "\n",
       "    .dataframe tbody tr th {\n",
       "        vertical-align: top;\n",
       "    }\n",
       "\n",
       "    .dataframe thead th {\n",
       "        text-align: right;\n",
       "    }\n",
       "</style>\n",
       "<table border=\"1\" class=\"dataframe\">\n",
       "  <thead>\n",
       "    <tr style=\"text-align: right;\">\n",
       "      <th></th>\n",
       "      <th>conta_total</th>\n",
       "      <th>gorjeta</th>\n",
       "      <th>sobremesa</th>\n",
       "      <th>dia_da_semana</th>\n",
       "      <th>horário</th>\n",
       "      <th>pessoas_na_mesa</th>\n",
       "    </tr>\n",
       "  </thead>\n",
       "  <tbody>\n",
       "    <tr>\n",
       "      <th>0</th>\n",
       "      <td>16.99</td>\n",
       "      <td>1.01</td>\n",
       "      <td>Não</td>\n",
       "      <td>Domingo</td>\n",
       "      <td>Jantar</td>\n",
       "      <td>2</td>\n",
       "    </tr>\n",
       "    <tr>\n",
       "      <th>1</th>\n",
       "      <td>10.34</td>\n",
       "      <td>1.66</td>\n",
       "      <td>Não</td>\n",
       "      <td>Domingo</td>\n",
       "      <td>Jantar</td>\n",
       "      <td>3</td>\n",
       "    </tr>\n",
       "    <tr>\n",
       "      <th>2</th>\n",
       "      <td>21.01</td>\n",
       "      <td>3.50</td>\n",
       "      <td>Não</td>\n",
       "      <td>Domingo</td>\n",
       "      <td>Jantar</td>\n",
       "      <td>3</td>\n",
       "    </tr>\n",
       "    <tr>\n",
       "      <th>3</th>\n",
       "      <td>23.68</td>\n",
       "      <td>3.31</td>\n",
       "      <td>Não</td>\n",
       "      <td>Domingo</td>\n",
       "      <td>Jantar</td>\n",
       "      <td>2</td>\n",
       "    </tr>\n",
       "    <tr>\n",
       "      <th>4</th>\n",
       "      <td>24.59</td>\n",
       "      <td>3.61</td>\n",
       "      <td>Não</td>\n",
       "      <td>Domingo</td>\n",
       "      <td>Jantar</td>\n",
       "      <td>4</td>\n",
       "    </tr>\n",
       "  </tbody>\n",
       "</table>\n",
       "</div>"
      ],
      "text/plain": [
       "   conta_total  gorjeta sobremesa dia_da_semana horário  pessoas_na_mesa\n",
       "0        16.99     1.01       Não       Domingo  Jantar                2\n",
       "1        10.34     1.66       Não       Domingo  Jantar                3\n",
       "2        21.01     3.50       Não       Domingo  Jantar                3\n",
       "3        23.68     3.31       Não       Domingo  Jantar                2\n",
       "4        24.59     3.61       Não       Domingo  Jantar                4"
      ]
     },
     "execution_count": 109,
     "metadata": {},
     "output_type": "execute_result"
    }
   ],
   "source": [
    "# relembrando como está o DF\n",
    "dft.head()"
   ]
  },
  {
   "cell_type": "code",
   "execution_count": 111,
   "id": "310a4a80",
   "metadata": {},
   "outputs": [
    {
     "data": {
      "text/html": [
       "<div>\n",
       "<style scoped>\n",
       "    .dataframe tbody tr th:only-of-type {\n",
       "        vertical-align: middle;\n",
       "    }\n",
       "\n",
       "    .dataframe tbody tr th {\n",
       "        vertical-align: top;\n",
       "    }\n",
       "\n",
       "    .dataframe thead th {\n",
       "        text-align: right;\n",
       "    }\n",
       "</style>\n",
       "<table border=\"1\" class=\"dataframe\">\n",
       "  <thead>\n",
       "    <tr style=\"text-align: right;\">\n",
       "      <th></th>\n",
       "      <th>conta_total</th>\n",
       "      <th>gorjeta</th>\n",
       "      <th>sobremesa</th>\n",
       "      <th>dia_da_semana</th>\n",
       "      <th>horário</th>\n",
       "      <th>pessoas_na_mesa</th>\n",
       "      <th>porcentagem</th>\n",
       "    </tr>\n",
       "  </thead>\n",
       "  <tbody>\n",
       "    <tr>\n",
       "      <th>0</th>\n",
       "      <td>16.99</td>\n",
       "      <td>1.01</td>\n",
       "      <td>Não</td>\n",
       "      <td>Domingo</td>\n",
       "      <td>Jantar</td>\n",
       "      <td>2</td>\n",
       "      <td>0.06</td>\n",
       "    </tr>\n",
       "    <tr>\n",
       "      <th>1</th>\n",
       "      <td>10.34</td>\n",
       "      <td>1.66</td>\n",
       "      <td>Não</td>\n",
       "      <td>Domingo</td>\n",
       "      <td>Jantar</td>\n",
       "      <td>3</td>\n",
       "      <td>0.16</td>\n",
       "    </tr>\n",
       "    <tr>\n",
       "      <th>2</th>\n",
       "      <td>21.01</td>\n",
       "      <td>3.50</td>\n",
       "      <td>Não</td>\n",
       "      <td>Domingo</td>\n",
       "      <td>Jantar</td>\n",
       "      <td>3</td>\n",
       "      <td>0.17</td>\n",
       "    </tr>\n",
       "    <tr>\n",
       "      <th>3</th>\n",
       "      <td>23.68</td>\n",
       "      <td>3.31</td>\n",
       "      <td>Não</td>\n",
       "      <td>Domingo</td>\n",
       "      <td>Jantar</td>\n",
       "      <td>2</td>\n",
       "      <td>0.14</td>\n",
       "    </tr>\n",
       "    <tr>\n",
       "      <th>4</th>\n",
       "      <td>24.59</td>\n",
       "      <td>3.61</td>\n",
       "      <td>Não</td>\n",
       "      <td>Domingo</td>\n",
       "      <td>Jantar</td>\n",
       "      <td>4</td>\n",
       "      <td>0.15</td>\n",
       "    </tr>\n",
       "    <tr>\n",
       "      <th>...</th>\n",
       "      <td>...</td>\n",
       "      <td>...</td>\n",
       "      <td>...</td>\n",
       "      <td>...</td>\n",
       "      <td>...</td>\n",
       "      <td>...</td>\n",
       "      <td>...</td>\n",
       "    </tr>\n",
       "    <tr>\n",
       "      <th>239</th>\n",
       "      <td>29.03</td>\n",
       "      <td>5.92</td>\n",
       "      <td>Não</td>\n",
       "      <td>Sábado</td>\n",
       "      <td>Jantar</td>\n",
       "      <td>3</td>\n",
       "      <td>0.20</td>\n",
       "    </tr>\n",
       "    <tr>\n",
       "      <th>240</th>\n",
       "      <td>27.18</td>\n",
       "      <td>2.00</td>\n",
       "      <td>Sim</td>\n",
       "      <td>Sábado</td>\n",
       "      <td>Jantar</td>\n",
       "      <td>2</td>\n",
       "      <td>0.07</td>\n",
       "    </tr>\n",
       "    <tr>\n",
       "      <th>241</th>\n",
       "      <td>22.67</td>\n",
       "      <td>2.00</td>\n",
       "      <td>Sim</td>\n",
       "      <td>Sábado</td>\n",
       "      <td>Jantar</td>\n",
       "      <td>2</td>\n",
       "      <td>0.09</td>\n",
       "    </tr>\n",
       "    <tr>\n",
       "      <th>242</th>\n",
       "      <td>17.82</td>\n",
       "      <td>1.75</td>\n",
       "      <td>Não</td>\n",
       "      <td>Sábado</td>\n",
       "      <td>Jantar</td>\n",
       "      <td>2</td>\n",
       "      <td>0.10</td>\n",
       "    </tr>\n",
       "    <tr>\n",
       "      <th>243</th>\n",
       "      <td>18.78</td>\n",
       "      <td>3.00</td>\n",
       "      <td>Não</td>\n",
       "      <td>Quinta</td>\n",
       "      <td>Jantar</td>\n",
       "      <td>2</td>\n",
       "      <td>0.16</td>\n",
       "    </tr>\n",
       "  </tbody>\n",
       "</table>\n",
       "<p>244 rows × 7 columns</p>\n",
       "</div>"
      ],
      "text/plain": [
       "     conta_total  gorjeta sobremesa dia_da_semana horário  pessoas_na_mesa  \\\n",
       "0          16.99     1.01       Não       Domingo  Jantar                2   \n",
       "1          10.34     1.66       Não       Domingo  Jantar                3   \n",
       "2          21.01     3.50       Não       Domingo  Jantar                3   \n",
       "3          23.68     3.31       Não       Domingo  Jantar                2   \n",
       "4          24.59     3.61       Não       Domingo  Jantar                4   \n",
       "..           ...      ...       ...           ...     ...              ...   \n",
       "239        29.03     5.92       Não        Sábado  Jantar                3   \n",
       "240        27.18     2.00       Sim        Sábado  Jantar                2   \n",
       "241        22.67     2.00       Sim        Sábado  Jantar                2   \n",
       "242        17.82     1.75       Não        Sábado  Jantar                2   \n",
       "243        18.78     3.00       Não        Quinta  Jantar                2   \n",
       "\n",
       "     porcentagem  \n",
       "0           0.06  \n",
       "1           0.16  \n",
       "2           0.17  \n",
       "3           0.14  \n",
       "4           0.15  \n",
       "..           ...  \n",
       "239         0.20  \n",
       "240         0.07  \n",
       "241         0.09  \n",
       "242         0.10  \n",
       "243         0.16  \n",
       "\n",
       "[244 rows x 7 columns]"
      ]
     },
     "execution_count": 111,
     "metadata": {},
     "output_type": "execute_result"
    }
   ],
   "source": [
    "dft['porcentagem'] = (dft['gorjeta'] / dft['conta_total']).round(2)\n",
    "dft"
   ]
  },
  {
   "cell_type": "code",
   "execution_count": 113,
   "id": "5e48f8d5",
   "metadata": {},
   "outputs": [
    {
     "data": {
      "text/plain": [
       "<AxesSubplot:xlabel='conta_total', ylabel='porcentagem'>"
      ]
     },
     "execution_count": 113,
     "metadata": {},
     "output_type": "execute_result"
    },
    {
     "data": {
      "image/png": "[encoded data removed]",
      "text/plain": [
       "<Figure size 432x288 with 1 Axes>"
      ]
     },
     "metadata": {
      "needs_background": "light"
     },
     "output_type": "display_data"
    }
   ],
   "source": [
    "# scatterplot agora com o campo novo 'porcentagem'\n",
    "sns.scatterplot(x='conta_total', y='porcentagem', data=dft)"
   ]
  },
  {
   "cell_type": "markdown",
   "id": "5541793e",
   "metadata": {},
   "source": [
    "## Plotando gráfico linha (relplot)"
   ]
  },
  {
   "cell_type": "code",
   "execution_count": 116,
   "id": "bb3651af",
   "metadata": {},
   "outputs": [
    {
     "data": {
      "text/plain": [
       "<seaborn.axisgrid.FacetGrid at 0x16e4068e850>"
      ]
     },
     "execution_count": 116,
     "metadata": {},
     "output_type": "execute_result"
    },
    {
     "data": {
      "image/png": "[encoded data removed]",
      "text/plain": [
       "<Figure size 360x360 with 1 Axes>"
      ]
     },
     "metadata": {
      "needs_background": "light"
     },
     "output_type": "display_data"
    }
   ],
   "source": [
    "teste_rel = sns.relplot(x='conta_total', y='porcentagem', data=dft, kind='line')\n",
    "teste_rel.set(xlabel='Conta total', ylabel='Porcentagem')  # renomeando as labels"
   ]
  },
  {
   "cell_type": "markdown",
   "id": "7c2883b2",
   "metadata": {},
   "source": [
    "# Análise 2: sobremesa"
   ]
  },
  {
   "cell_type": "markdown",
   "id": "aabd8859",
   "metadata": {},
   "source": [
    "## Análise descritiva:"
   ]
  },
  {
   "cell_type": "markdown",
   "id": "db6e1c85",
   "metadata": {},
   "source": [
    "Analisando se o valor da gorjeta está ligado ao fato de ter sobremesa ou não"
   ]
  },
  {
   "cell_type": "code",
   "execution_count": 24,
   "id": "d74d600e",
   "metadata": {},
   "outputs": [
    {
     "data": {
      "text/html": [
       "<div>\n",
       "<style scoped>\n",
       "    .dataframe tbody tr th:only-of-type {\n",
       "        vertical-align: middle;\n",
       "    }\n",
       "\n",
       "    .dataframe tbody tr th {\n",
       "        vertical-align: top;\n",
       "    }\n",
       "\n",
       "    .dataframe thead th {\n",
       "        text-align: right;\n",
       "    }\n",
       "</style>\n",
       "<table border=\"1\" class=\"dataframe\">\n",
       "  <thead>\n",
       "    <tr style=\"text-align: right;\">\n",
       "      <th></th>\n",
       "      <th>conta_total</th>\n",
       "      <th>gorjeta</th>\n",
       "      <th>sobremesa</th>\n",
       "      <th>dia_da_semana</th>\n",
       "      <th>horário</th>\n",
       "      <th>pessoas_na_mesa</th>\n",
       "      <th>porcentagem</th>\n",
       "    </tr>\n",
       "  </thead>\n",
       "  <tbody>\n",
       "    <tr>\n",
       "      <th>0</th>\n",
       "      <td>16.99</td>\n",
       "      <td>1.01</td>\n",
       "      <td>Não</td>\n",
       "      <td>Domingo</td>\n",
       "      <td>Jantar</td>\n",
       "      <td>2</td>\n",
       "      <td>0.06</td>\n",
       "    </tr>\n",
       "    <tr>\n",
       "      <th>1</th>\n",
       "      <td>10.34</td>\n",
       "      <td>1.66</td>\n",
       "      <td>Não</td>\n",
       "      <td>Domingo</td>\n",
       "      <td>Jantar</td>\n",
       "      <td>3</td>\n",
       "      <td>0.16</td>\n",
       "    </tr>\n",
       "    <tr>\n",
       "      <th>2</th>\n",
       "      <td>21.01</td>\n",
       "      <td>3.50</td>\n",
       "      <td>Não</td>\n",
       "      <td>Domingo</td>\n",
       "      <td>Jantar</td>\n",
       "      <td>3</td>\n",
       "      <td>0.17</td>\n",
       "    </tr>\n",
       "    <tr>\n",
       "      <th>3</th>\n",
       "      <td>23.68</td>\n",
       "      <td>3.31</td>\n",
       "      <td>Não</td>\n",
       "      <td>Domingo</td>\n",
       "      <td>Jantar</td>\n",
       "      <td>2</td>\n",
       "      <td>0.14</td>\n",
       "    </tr>\n",
       "    <tr>\n",
       "      <th>4</th>\n",
       "      <td>24.59</td>\n",
       "      <td>3.61</td>\n",
       "      <td>Não</td>\n",
       "      <td>Domingo</td>\n",
       "      <td>Jantar</td>\n",
       "      <td>4</td>\n",
       "      <td>0.15</td>\n",
       "    </tr>\n",
       "  </tbody>\n",
       "</table>\n",
       "</div>"
      ],
      "text/plain": [
       "   conta_total  gorjeta sobremesa dia_da_semana horário  pessoas_na_mesa  \\\n",
       "0        16.99     1.01       Não       Domingo  Jantar                2   \n",
       "1        10.34     1.66       Não       Domingo  Jantar                3   \n",
       "2        21.01     3.50       Não       Domingo  Jantar                3   \n",
       "3        23.68     3.31       Não       Domingo  Jantar                2   \n",
       "4        24.59     3.61       Não       Domingo  Jantar                4   \n",
       "\n",
       "   porcentagem  \n",
       "0         0.06  \n",
       "1         0.16  \n",
       "2         0.17  \n",
       "3         0.14  \n",
       "4         0.15  "
      ]
     },
     "execution_count": 24,
     "metadata": {},
     "output_type": "execute_result"
    }
   ],
   "source": [
    "dft.head()  # relembrando"
   ]
  },
  {
   "cell_type": "code",
   "execution_count": 117,
   "id": "0ba9aa21",
   "metadata": {},
   "outputs": [
    {
     "data": {
      "text/html": [
       "<div>\n",
       "<style scoped>\n",
       "    .dataframe tbody tr th:only-of-type {\n",
       "        vertical-align: middle;\n",
       "    }\n",
       "\n",
       "    .dataframe tbody tr th {\n",
       "        vertical-align: top;\n",
       "    }\n",
       "\n",
       "    .dataframe thead th {\n",
       "        text-align: right;\n",
       "    }\n",
       "</style>\n",
       "<table border=\"1\" class=\"dataframe\">\n",
       "  <thead>\n",
       "    <tr style=\"text-align: right;\">\n",
       "      <th></th>\n",
       "      <th>conta_total</th>\n",
       "      <th>gorjeta</th>\n",
       "      <th>pessoas_na_mesa</th>\n",
       "      <th>porcentagem</th>\n",
       "    </tr>\n",
       "  </thead>\n",
       "  <tbody>\n",
       "    <tr>\n",
       "      <th>count</th>\n",
       "      <td>244.000000</td>\n",
       "      <td>244.000000</td>\n",
       "      <td>244.000000</td>\n",
       "      <td>244.000000</td>\n",
       "    </tr>\n",
       "    <tr>\n",
       "      <th>mean</th>\n",
       "      <td>19.785943</td>\n",
       "      <td>2.998279</td>\n",
       "      <td>2.569672</td>\n",
       "      <td>0.160943</td>\n",
       "    </tr>\n",
       "    <tr>\n",
       "      <th>std</th>\n",
       "      <td>8.902412</td>\n",
       "      <td>1.383638</td>\n",
       "      <td>0.951100</td>\n",
       "      <td>0.061030</td>\n",
       "    </tr>\n",
       "    <tr>\n",
       "      <th>min</th>\n",
       "      <td>3.070000</td>\n",
       "      <td>1.000000</td>\n",
       "      <td>1.000000</td>\n",
       "      <td>0.040000</td>\n",
       "    </tr>\n",
       "    <tr>\n",
       "      <th>25%</th>\n",
       "      <td>13.347500</td>\n",
       "      <td>2.000000</td>\n",
       "      <td>2.000000</td>\n",
       "      <td>0.130000</td>\n",
       "    </tr>\n",
       "    <tr>\n",
       "      <th>50%</th>\n",
       "      <td>17.795000</td>\n",
       "      <td>2.900000</td>\n",
       "      <td>2.000000</td>\n",
       "      <td>0.155000</td>\n",
       "    </tr>\n",
       "    <tr>\n",
       "      <th>75%</th>\n",
       "      <td>24.127500</td>\n",
       "      <td>3.562500</td>\n",
       "      <td>3.000000</td>\n",
       "      <td>0.190000</td>\n",
       "    </tr>\n",
       "    <tr>\n",
       "      <th>max</th>\n",
       "      <td>50.810000</td>\n",
       "      <td>10.000000</td>\n",
       "      <td>6.000000</td>\n",
       "      <td>0.710000</td>\n",
       "    </tr>\n",
       "  </tbody>\n",
       "</table>\n",
       "</div>"
      ],
      "text/plain": [
       "       conta_total     gorjeta  pessoas_na_mesa  porcentagem\n",
       "count   244.000000  244.000000       244.000000   244.000000\n",
       "mean     19.785943    2.998279         2.569672     0.160943\n",
       "std       8.902412    1.383638         0.951100     0.061030\n",
       "min       3.070000    1.000000         1.000000     0.040000\n",
       "25%      13.347500    2.000000         2.000000     0.130000\n",
       "50%      17.795000    2.900000         2.000000     0.155000\n",
       "75%      24.127500    3.562500         3.000000     0.190000\n",
       "max      50.810000   10.000000         6.000000     0.710000"
      ]
     },
     "execution_count": 117,
     "metadata": {},
     "output_type": "execute_result"
    }
   ],
   "source": [
    "dft.describe()"
   ]
  },
  {
   "cell_type": "code",
   "execution_count": 27,
   "id": "72ca822f",
   "metadata": {},
   "outputs": [
    {
     "data": {
      "text/html": [
       "<div>\n",
       "<style scoped>\n",
       "    .dataframe tbody tr th:only-of-type {\n",
       "        vertical-align: middle;\n",
       "    }\n",
       "\n",
       "    .dataframe tbody tr th {\n",
       "        vertical-align: top;\n",
       "    }\n",
       "\n",
       "    .dataframe thead th {\n",
       "        text-align: right;\n",
       "    }\n",
       "</style>\n",
       "<table border=\"1\" class=\"dataframe\">\n",
       "  <thead>\n",
       "    <tr style=\"text-align: right;\">\n",
       "      <th></th>\n",
       "      <th>conta_total</th>\n",
       "      <th>gorjeta</th>\n",
       "      <th>pessoas_na_mesa</th>\n",
       "      <th>porcentagem</th>\n",
       "    </tr>\n",
       "  </thead>\n",
       "  <tbody>\n",
       "    <tr>\n",
       "      <th>count</th>\n",
       "      <td>93.000000</td>\n",
       "      <td>93.000000</td>\n",
       "      <td>93.000000</td>\n",
       "      <td>93.000000</td>\n",
       "    </tr>\n",
       "    <tr>\n",
       "      <th>mean</th>\n",
       "      <td>20.756344</td>\n",
       "      <td>3.008710</td>\n",
       "      <td>2.408602</td>\n",
       "      <td>0.163226</td>\n",
       "    </tr>\n",
       "    <tr>\n",
       "      <th>std</th>\n",
       "      <td>9.832154</td>\n",
       "      <td>1.401468</td>\n",
       "      <td>0.810751</td>\n",
       "      <td>0.085060</td>\n",
       "    </tr>\n",
       "    <tr>\n",
       "      <th>min</th>\n",
       "      <td>3.070000</td>\n",
       "      <td>1.000000</td>\n",
       "      <td>1.000000</td>\n",
       "      <td>0.040000</td>\n",
       "    </tr>\n",
       "    <tr>\n",
       "      <th>25%</th>\n",
       "      <td>13.420000</td>\n",
       "      <td>2.000000</td>\n",
       "      <td>2.000000</td>\n",
       "      <td>0.110000</td>\n",
       "    </tr>\n",
       "    <tr>\n",
       "      <th>50%</th>\n",
       "      <td>17.920000</td>\n",
       "      <td>3.000000</td>\n",
       "      <td>2.000000</td>\n",
       "      <td>0.150000</td>\n",
       "    </tr>\n",
       "    <tr>\n",
       "      <th>75%</th>\n",
       "      <td>26.860000</td>\n",
       "      <td>3.680000</td>\n",
       "      <td>3.000000</td>\n",
       "      <td>0.200000</td>\n",
       "    </tr>\n",
       "    <tr>\n",
       "      <th>max</th>\n",
       "      <td>50.810000</td>\n",
       "      <td>10.000000</td>\n",
       "      <td>5.000000</td>\n",
       "      <td>0.710000</td>\n",
       "    </tr>\n",
       "  </tbody>\n",
       "</table>\n",
       "</div>"
      ],
      "text/plain": [
       "       conta_total    gorjeta  pessoas_na_mesa  porcentagem\n",
       "count    93.000000  93.000000        93.000000    93.000000\n",
       "mean     20.756344   3.008710         2.408602     0.163226\n",
       "std       9.832154   1.401468         0.810751     0.085060\n",
       "min       3.070000   1.000000         1.000000     0.040000\n",
       "25%      13.420000   2.000000         2.000000     0.110000\n",
       "50%      17.920000   3.000000         2.000000     0.150000\n",
       "75%      26.860000   3.680000         3.000000     0.200000\n",
       "max      50.810000  10.000000         5.000000     0.710000"
      ]
     },
     "execution_count": 27,
     "metadata": {},
     "output_type": "execute_result"
    }
   ],
   "source": [
    "dft[dft['sobremesa'] == 'Sim'].describe()"
   ]
  },
  {
   "cell_type": "code",
   "execution_count": 28,
   "id": "c427af99",
   "metadata": {},
   "outputs": [
    {
     "data": {
      "text/html": [
       "<div>\n",
       "<style scoped>\n",
       "    .dataframe tbody tr th:only-of-type {\n",
       "        vertical-align: middle;\n",
       "    }\n",
       "\n",
       "    .dataframe tbody tr th {\n",
       "        vertical-align: top;\n",
       "    }\n",
       "\n",
       "    .dataframe thead th {\n",
       "        text-align: right;\n",
       "    }\n",
       "</style>\n",
       "<table border=\"1\" class=\"dataframe\">\n",
       "  <thead>\n",
       "    <tr style=\"text-align: right;\">\n",
       "      <th></th>\n",
       "      <th>conta_total</th>\n",
       "      <th>gorjeta</th>\n",
       "      <th>pessoas_na_mesa</th>\n",
       "      <th>porcentagem</th>\n",
       "    </tr>\n",
       "  </thead>\n",
       "  <tbody>\n",
       "    <tr>\n",
       "      <th>count</th>\n",
       "      <td>151.000000</td>\n",
       "      <td>151.000000</td>\n",
       "      <td>151.000000</td>\n",
       "      <td>151.000000</td>\n",
       "    </tr>\n",
       "    <tr>\n",
       "      <th>mean</th>\n",
       "      <td>19.188278</td>\n",
       "      <td>2.991854</td>\n",
       "      <td>2.668874</td>\n",
       "      <td>0.159536</td>\n",
       "    </tr>\n",
       "    <tr>\n",
       "      <th>std</th>\n",
       "      <td>8.255582</td>\n",
       "      <td>1.377190</td>\n",
       "      <td>1.017984</td>\n",
       "      <td>0.039889</td>\n",
       "    </tr>\n",
       "    <tr>\n",
       "      <th>min</th>\n",
       "      <td>7.250000</td>\n",
       "      <td>1.000000</td>\n",
       "      <td>1.000000</td>\n",
       "      <td>0.060000</td>\n",
       "    </tr>\n",
       "    <tr>\n",
       "      <th>25%</th>\n",
       "      <td>13.325000</td>\n",
       "      <td>2.000000</td>\n",
       "      <td>2.000000</td>\n",
       "      <td>0.140000</td>\n",
       "    </tr>\n",
       "    <tr>\n",
       "      <th>50%</th>\n",
       "      <td>17.590000</td>\n",
       "      <td>2.740000</td>\n",
       "      <td>2.000000</td>\n",
       "      <td>0.160000</td>\n",
       "    </tr>\n",
       "    <tr>\n",
       "      <th>75%</th>\n",
       "      <td>22.755000</td>\n",
       "      <td>3.505000</td>\n",
       "      <td>3.000000</td>\n",
       "      <td>0.185000</td>\n",
       "    </tr>\n",
       "    <tr>\n",
       "      <th>max</th>\n",
       "      <td>48.330000</td>\n",
       "      <td>9.000000</td>\n",
       "      <td>6.000000</td>\n",
       "      <td>0.290000</td>\n",
       "    </tr>\n",
       "  </tbody>\n",
       "</table>\n",
       "</div>"
      ],
      "text/plain": [
       "       conta_total     gorjeta  pessoas_na_mesa  porcentagem\n",
       "count   151.000000  151.000000       151.000000   151.000000\n",
       "mean     19.188278    2.991854         2.668874     0.159536\n",
       "std       8.255582    1.377190         1.017984     0.039889\n",
       "min       7.250000    1.000000         1.000000     0.060000\n",
       "25%      13.325000    2.000000         2.000000     0.140000\n",
       "50%      17.590000    2.740000         2.000000     0.160000\n",
       "75%      22.755000    3.505000         3.000000     0.185000\n",
       "max      48.330000    9.000000         6.000000     0.290000"
      ]
     },
     "execution_count": 28,
     "metadata": {},
     "output_type": "execute_result"
    }
   ],
   "source": [
    "dft[dft['sobremesa'] == 'Não'].describe()"
   ]
  },
  {
   "cell_type": "markdown",
   "id": "e7a2e156",
   "metadata": {},
   "source": [
    "## Análise visual:"
   ]
  },
  {
   "cell_type": "markdown",
   "id": "7ee64758",
   "metadata": {},
   "source": [
    "Analisando com gráficos se o valor da gorjeta está ligado ao fato de ter sobremesa ou não"
   ]
  },
  {
   "cell_type": "code",
   "execution_count": 29,
   "id": "b8881d7a",
   "metadata": {},
   "outputs": [
    {
     "data": {
      "text/plain": [
       "<seaborn.axisgrid.FacetGrid at 0x16e3ce202e0>"
      ]
     },
     "execution_count": 29,
     "metadata": {},
     "output_type": "execute_result"
    },
    {
     "data": {
      "image/png": "[encoded data removed]",
      "text/plain": [
       "<Figure size 360x360 with 1 Axes>"
      ]
     },
     "metadata": {
      "needs_background": "light"
     },
     "output_type": "display_data"
    }
   ],
   "source": [
    "sns.catplot(x='sobremesa', y='gorjeta', data=dft)"
   ]
  },
  {
   "cell_type": "code",
   "execution_count": 30,
   "id": "8ea7d9a0",
   "metadata": {},
   "outputs": [
    {
     "data": {
      "text/plain": [
       "<seaborn.axisgrid.FacetGrid at 0x16e3ce35a00>"
      ]
     },
     "execution_count": 30,
     "metadata": {},
     "output_type": "execute_result"
    },
    {
     "data": {
      "image/png": "[encoded data removed]",
      "text/plain": [
       "<Figure size 422.625x360 with 1 Axes>"
      ]
     },
     "metadata": {
      "needs_background": "light"
     },
     "output_type": "display_data"
    }
   ],
   "source": [
    "sns.relplot(x='conta_total', y='gorjeta', hue='sobremesa', data=dft)"
   ]
  },
  {
   "cell_type": "code",
   "execution_count": 31,
   "id": "29161ebc",
   "metadata": {},
   "outputs": [
    {
     "data": {
      "text/plain": [
       "<seaborn.axisgrid.FacetGrid at 0x16e3ce61b80>"
      ]
     },
     "execution_count": 31,
     "metadata": {},
     "output_type": "execute_result"
    },
    {
     "data": {
      "image/png": "[encoded data removed]",
      "text/plain": [
       "<Figure size 782.625x360 with 2 Axes>"
      ]
     },
     "metadata": {
      "needs_background": "light"
     },
     "output_type": "display_data"
    }
   ],
   "source": [
    "sns.relplot(x='conta_total', y='gorjeta', hue='sobremesa', col='sobremesa', data=dft)"
   ]
  },
  {
   "cell_type": "code",
   "execution_count": 32,
   "id": "1c8fc3d4",
   "metadata": {},
   "outputs": [
    {
     "data": {
      "text/plain": [
       "<seaborn.axisgrid.FacetGrid at 0x16e3ce61700>"
      ]
     },
     "execution_count": 32,
     "metadata": {},
     "output_type": "execute_result"
    },
    {
     "data": {
      "image/png": "[encoded data removed]",
      "text/plain": [
       "<Figure size 720x360 with 2 Axes>"
      ]
     },
     "metadata": {
      "needs_background": "light"
     },
     "output_type": "display_data"
    }
   ],
   "source": [
    "sns.lmplot(x='conta_total', y='gorjeta', col='sobremesa', hue='sobremesa', data=dft)"
   ]
  },
  {
   "cell_type": "code",
   "execution_count": 33,
   "id": "5c12c220",
   "metadata": {},
   "outputs": [
    {
     "data": {
      "text/plain": [
       "<seaborn.axisgrid.FacetGrid at 0x16e3d0d28e0>"
      ]
     },
     "execution_count": 33,
     "metadata": {},
     "output_type": "execute_result"
    },
    {
     "data": {
      "image/png": "[encoded data removed]",
      "text/plain": [
       "<Figure size 782.625x360 with 2 Axes>"
      ]
     },
     "metadata": {
      "needs_background": "light"
     },
     "output_type": "display_data"
    }
   ],
   "source": [
    "sns.relplot(x='conta_total', y='porcentagem', hue='sobremesa', kind='line', col='sobremesa', data=dft)"
   ]
  },
  {
   "cell_type": "markdown",
   "id": "e32d4841",
   "metadata": {},
   "source": [
    "## Teste de hipótese"
   ]
  },
  {
   "cell_type": "markdown",
   "id": "fd371bd5",
   "metadata": {},
   "source": [
    "Analisando com o ranksums se o valor da gorjeta está ligado ao fato de ter sobremesa ou não"
   ]
  },
  {
   "cell_type": "markdown",
   "id": "2f5f5cb0",
   "metadata": {},
   "source": [
    "Hipótese null: A distribuição da taxa da gorjeta é a mesma nos dois grupos"
   ]
  },
  {
   "cell_type": "markdown",
   "id": "e0759bdc",
   "metadata": {},
   "source": [
    "Hipótese alt: A distribuição da taxa da gorjeta NÃO é a mesma nos dois grupos"
   ]
  },
  {
   "cell_type": "code",
   "execution_count": 118,
   "id": "55d182fa",
   "metadata": {},
   "outputs": [],
   "source": [
    "# importando o ranksums (estatística)\n",
    "from scipy.stats import ranksums"
   ]
  },
  {
   "cell_type": "code",
   "execution_count": 123,
   "id": "d9dd8719",
   "metadata": {},
   "outputs": [
    {
     "data": {
      "text/plain": [
       "56     0.08\n",
       "58     0.16\n",
       "60     0.16\n",
       "61     0.14\n",
       "62     0.18\n",
       "       ... \n",
       "234    0.19\n",
       "236    0.08\n",
       "237    0.04\n",
       "240    0.07\n",
       "241    0.09\n",
       "Name: porcentagem, Length: 93, dtype: float64"
      ]
     },
     "execution_count": 123,
     "metadata": {},
     "output_type": "execute_result"
    }
   ],
   "source": [
    "# query que retorna a coluna porcentagem, mas apenas se \"sobremesa == 'Sim'\"\n",
    "sobremesa = dft.query(\"sobremesa == 'Sim'\").porcentagem\n",
    "sobremesa"
   ]
  },
  {
   "cell_type": "code",
   "execution_count": 124,
   "id": "9aaa1d21",
   "metadata": {},
   "outputs": [
    {
     "data": {
      "text/plain": [
       "0      0.06\n",
       "1      0.16\n",
       "2      0.17\n",
       "3      0.14\n",
       "4      0.15\n",
       "       ... \n",
       "235    0.12\n",
       "238    0.13\n",
       "239    0.20\n",
       "242    0.10\n",
       "243    0.16\n",
       "Name: porcentagem, Length: 151, dtype: float64"
      ]
     },
     "execution_count": 124,
     "metadata": {},
     "output_type": "execute_result"
    }
   ],
   "source": [
    "# query que retorna a coluna porcentagem, mas apenas se \"sobremesa == 'Não'\"\n",
    "sem_sobremesa = dft.query(\"sobremesa == 'Não'\")['porcentagem']\n",
    "sem_sobremesa"
   ]
  },
  {
   "cell_type": "code",
   "execution_count": 125,
   "id": "2a5df3fe",
   "metadata": {},
   "outputs": [
    {
     "name": "stdout",
     "output_type": "stream",
     "text": [
      "O pvalue é 0.5266635660124415\n"
     ]
    }
   ],
   "source": [
    "rs_sobremesa = ranksums(sobremesa, sem_sobremesa)[1]\n",
    "print(f'O pvalue é {rs_sobremesa}')"
   ]
  },
  {
   "cell_type": "markdown",
   "id": "281d2c4e",
   "metadata": {},
   "source": [
    "pvalue = 0,52, o que significa que pvalue > 0,05, ou seja, NÃO podemos aceitar a H alt"
   ]
  },
  {
   "cell_type": "markdown",
   "id": "1dd658ab",
   "metadata": {},
   "source": [
    "# Análise 3: dias da semana"
   ]
  },
  {
   "cell_type": "code",
   "execution_count": 126,
   "id": "bb63d5f0",
   "metadata": {},
   "outputs": [
    {
     "data": {
      "text/html": [
       "<div>\n",
       "<style scoped>\n",
       "    .dataframe tbody tr th:only-of-type {\n",
       "        vertical-align: middle;\n",
       "    }\n",
       "\n",
       "    .dataframe tbody tr th {\n",
       "        vertical-align: top;\n",
       "    }\n",
       "\n",
       "    .dataframe thead th {\n",
       "        text-align: right;\n",
       "    }\n",
       "</style>\n",
       "<table border=\"1\" class=\"dataframe\">\n",
       "  <thead>\n",
       "    <tr style=\"text-align: right;\">\n",
       "      <th></th>\n",
       "      <th>conta_total</th>\n",
       "      <th>gorjeta</th>\n",
       "      <th>sobremesa</th>\n",
       "      <th>dia_da_semana</th>\n",
       "      <th>horário</th>\n",
       "      <th>pessoas_na_mesa</th>\n",
       "      <th>porcentagem</th>\n",
       "    </tr>\n",
       "  </thead>\n",
       "  <tbody>\n",
       "    <tr>\n",
       "      <th>0</th>\n",
       "      <td>16.99</td>\n",
       "      <td>1.01</td>\n",
       "      <td>Não</td>\n",
       "      <td>Domingo</td>\n",
       "      <td>Jantar</td>\n",
       "      <td>2</td>\n",
       "      <td>0.06</td>\n",
       "    </tr>\n",
       "    <tr>\n",
       "      <th>1</th>\n",
       "      <td>10.34</td>\n",
       "      <td>1.66</td>\n",
       "      <td>Não</td>\n",
       "      <td>Domingo</td>\n",
       "      <td>Jantar</td>\n",
       "      <td>3</td>\n",
       "      <td>0.16</td>\n",
       "    </tr>\n",
       "    <tr>\n",
       "      <th>2</th>\n",
       "      <td>21.01</td>\n",
       "      <td>3.50</td>\n",
       "      <td>Não</td>\n",
       "      <td>Domingo</td>\n",
       "      <td>Jantar</td>\n",
       "      <td>3</td>\n",
       "      <td>0.17</td>\n",
       "    </tr>\n",
       "    <tr>\n",
       "      <th>3</th>\n",
       "      <td>23.68</td>\n",
       "      <td>3.31</td>\n",
       "      <td>Não</td>\n",
       "      <td>Domingo</td>\n",
       "      <td>Jantar</td>\n",
       "      <td>2</td>\n",
       "      <td>0.14</td>\n",
       "    </tr>\n",
       "    <tr>\n",
       "      <th>4</th>\n",
       "      <td>24.59</td>\n",
       "      <td>3.61</td>\n",
       "      <td>Não</td>\n",
       "      <td>Domingo</td>\n",
       "      <td>Jantar</td>\n",
       "      <td>4</td>\n",
       "      <td>0.15</td>\n",
       "    </tr>\n",
       "  </tbody>\n",
       "</table>\n",
       "</div>"
      ],
      "text/plain": [
       "   conta_total  gorjeta sobremesa dia_da_semana horário  pessoas_na_mesa  \\\n",
       "0        16.99     1.01       Não       Domingo  Jantar                2   \n",
       "1        10.34     1.66       Não       Domingo  Jantar                3   \n",
       "2        21.01     3.50       Não       Domingo  Jantar                3   \n",
       "3        23.68     3.31       Não       Domingo  Jantar                2   \n",
       "4        24.59     3.61       Não       Domingo  Jantar                4   \n",
       "\n",
       "   porcentagem  \n",
       "0         0.06  \n",
       "1         0.16  \n",
       "2         0.17  \n",
       "3         0.14  \n",
       "4         0.15  "
      ]
     },
     "execution_count": 126,
     "metadata": {},
     "output_type": "execute_result"
    }
   ],
   "source": [
    "dft.head()  #relembrando"
   ]
  },
  {
   "cell_type": "markdown",
   "id": "3a90cc85",
   "metadata": {},
   "source": [
    "## Análise visual"
   ]
  },
  {
   "cell_type": "markdown",
   "id": "e0eb998f",
   "metadata": {},
   "source": [
    "Analisando com gráficos se o valor da gorjeta está ligado ao dia da semana"
   ]
  },
  {
   "cell_type": "code",
   "execution_count": 39,
   "id": "ff74c0a1",
   "metadata": {},
   "outputs": [
    {
     "data": {
      "text/plain": [
       "array(['Domingo', 'Sábado', 'Quinta', 'Sexta'], dtype=object)"
      ]
     },
     "execution_count": 39,
     "metadata": {},
     "output_type": "execute_result"
    }
   ],
   "source": [
    "dft.dia_da_semana.unique()\n",
    "#mostrando os valores únicos na coluna dia_da_semana^"
   ]
  },
  {
   "cell_type": "code",
   "execution_count": 40,
   "id": "e31895dd",
   "metadata": {},
   "outputs": [
    {
     "data": {
      "text/plain": [
       "<seaborn.axisgrid.FacetGrid at 0x16e3e299820>"
      ]
     },
     "execution_count": 40,
     "metadata": {},
     "output_type": "execute_result"
    },
    {
     "data": {
      "image/png": "[encoded data removed]",
      "text/plain": [
       "<Figure size 360x360 with 1 Axes>"
      ]
     },
     "metadata": {
      "needs_background": "light"
     },
     "output_type": "display_data"
    }
   ],
   "source": [
    "sns.catplot(x='dia_da_semana', y='conta_total', data=dft)"
   ]
  },
  {
   "cell_type": "code",
   "execution_count": 41,
   "id": "601b25d3",
   "metadata": {},
   "outputs": [
    {
     "data": {
      "text/plain": [
       "<seaborn.axisgrid.FacetGrid at 0x16e3e341400>"
      ]
     },
     "execution_count": 41,
     "metadata": {},
     "output_type": "execute_result"
    },
    {
     "data": {
      "image/png": "[encoded data removed]",
      "text/plain": [
       "<Figure size 445.5x360 with 1 Axes>"
      ]
     },
     "metadata": {
      "needs_background": "light"
     },
     "output_type": "display_data"
    }
   ],
   "source": [
    "sns.relplot(x='conta_total', y='gorjeta', hue='dia_da_semana', data=dft)"
   ]
  },
  {
   "cell_type": "code",
   "execution_count": 42,
   "id": "e336eba8",
   "metadata": {},
   "outputs": [
    {
     "data": {
      "text/plain": [
       "<seaborn.axisgrid.FacetGrid at 0x16e3e3dea90>"
      ]
     },
     "execution_count": 42,
     "metadata": {},
     "output_type": "execute_result"
    },
    {
     "data": {
      "image/png": "[encoded data removed]",
      "text/plain": [
       "<Figure size 1525.5x360 with 4 Axes>"
      ]
     },
     "metadata": {
      "needs_background": "light"
     },
     "output_type": "display_data"
    }
   ],
   "source": [
    "sns.relplot(x='conta_total', y='gorjeta', hue='dia_da_semana', col='dia_da_semana', data=dft)"
   ]
  },
  {
   "cell_type": "code",
   "execution_count": 128,
   "id": "63c73cf1",
   "metadata": {},
   "outputs": [
    {
     "data": {
      "text/plain": [
       "<seaborn.axisgrid.FacetGrid at 0x16e406887f0>"
      ]
     },
     "execution_count": 128,
     "metadata": {},
     "output_type": "execute_result"
    },
    {
     "data": {
      "image/png": "[encoded data removed]",
      "text/plain": [
       "<Figure size 1440x360 with 4 Axes>"
      ]
     },
     "metadata": {
      "needs_background": "light"
     },
     "output_type": "display_data"
    }
   ],
   "source": [
    "sns.lmplot(x='conta_total', y='porcentagem', hue='dia_da_semana', col='dia_da_semana', data=dft)"
   ]
  },
  {
   "cell_type": "markdown",
   "id": "1021152e",
   "metadata": {},
   "source": [
    "Podemos ver que, quanto maior o valor da conta, menor a porcentagem da gorjeta"
   ]
  },
  {
   "cell_type": "markdown",
   "id": "952f5ad8",
   "metadata": {},
   "source": [
    "## Análise descritiva:"
   ]
  },
  {
   "cell_type": "markdown",
   "id": "671f1fc8",
   "metadata": {},
   "source": [
    "Analisando se o valor da gorjeta está ligado ao dia da semana"
   ]
  },
  {
   "cell_type": "code",
   "execution_count": 138,
   "id": "b0657b69",
   "metadata": {},
   "outputs": [
    {
     "name": "stdout",
     "output_type": "stream",
     "text": [
      "A média geral das gorjetas é de 2.998\n"
     ]
    }
   ],
   "source": [
    "media_geral_gorjetas = dft.gorjeta.mean()\n",
    "print(f'A média geral das gorjetas é de {media_geral_gorjetas:.3f}')"
   ]
  },
  {
   "cell_type": "code",
   "execution_count": 45,
   "id": "5b7a82fc",
   "metadata": {},
   "outputs": [
    {
     "data": {
      "text/html": [
       "<div>\n",
       "<style scoped>\n",
       "    .dataframe tbody tr th:only-of-type {\n",
       "        vertical-align: middle;\n",
       "    }\n",
       "\n",
       "    .dataframe tbody tr th {\n",
       "        vertical-align: top;\n",
       "    }\n",
       "\n",
       "    .dataframe thead th {\n",
       "        text-align: right;\n",
       "    }\n",
       "</style>\n",
       "<table border=\"1\" class=\"dataframe\">\n",
       "  <thead>\n",
       "    <tr style=\"text-align: right;\">\n",
       "      <th></th>\n",
       "      <th>conta_total</th>\n",
       "      <th>gorjeta</th>\n",
       "      <th>porcentagem</th>\n",
       "    </tr>\n",
       "    <tr>\n",
       "      <th>dia_da_semana</th>\n",
       "      <th></th>\n",
       "      <th></th>\n",
       "      <th></th>\n",
       "    </tr>\n",
       "  </thead>\n",
       "  <tbody>\n",
       "    <tr>\n",
       "      <th>Domingo</th>\n",
       "      <td>21.41</td>\n",
       "      <td>3.26</td>\n",
       "      <td>0.17</td>\n",
       "    </tr>\n",
       "    <tr>\n",
       "      <th>Quinta</th>\n",
       "      <td>17.68</td>\n",
       "      <td>2.77</td>\n",
       "      <td>0.16</td>\n",
       "    </tr>\n",
       "    <tr>\n",
       "      <th>Sexta</th>\n",
       "      <td>17.15</td>\n",
       "      <td>2.73</td>\n",
       "      <td>0.17</td>\n",
       "    </tr>\n",
       "    <tr>\n",
       "      <th>Sábado</th>\n",
       "      <td>20.44</td>\n",
       "      <td>2.99</td>\n",
       "      <td>0.15</td>\n",
       "    </tr>\n",
       "  </tbody>\n",
       "</table>\n",
       "</div>"
      ],
      "text/plain": [
       "               conta_total  gorjeta  porcentagem\n",
       "dia_da_semana                                   \n",
       "Domingo              21.41     3.26         0.17\n",
       "Quinta               17.68     2.77         0.16\n",
       "Sexta                17.15     2.73         0.17\n",
       "Sábado               20.44     2.99         0.15"
      ]
     },
     "execution_count": 45,
     "metadata": {},
     "output_type": "execute_result"
    }
   ],
   "source": [
    "#mostrando a média de cada dia da semana:\n",
    "dft.groupby('dia_da_semana').mean().round(2)[['conta_total', 'gorjeta', 'porcentagem']]"
   ]
  },
  {
   "cell_type": "code",
   "execution_count": 46,
   "id": "66fc067a",
   "metadata": {},
   "outputs": [
    {
     "name": "stdout",
     "output_type": "stream",
     "text": [
      "Frequência dos dias:\n"
     ]
    },
    {
     "data": {
      "text/plain": [
       "Sábado     87\n",
       "Domingo    76\n",
       "Quinta     62\n",
       "Sexta      19\n",
       "Name: dia_da_semana, dtype: int64"
      ]
     },
     "execution_count": 46,
     "metadata": {},
     "output_type": "execute_result"
    }
   ],
   "source": [
    "#mostrando a frequência de cada dia:\n",
    "print('Frequência dos dias:')\n",
    "dft.dia_da_semana.value_counts()"
   ]
  },
  {
   "cell_type": "markdown",
   "id": "69daac7c",
   "metadata": {},
   "source": [
    "## Teste de hipótese"
   ]
  },
  {
   "cell_type": "markdown",
   "id": "6c8fc945",
   "metadata": {},
   "source": [
    "Analisando com o ranksums se o valor da gorjeta está ligado ao dia da semana"
   ]
  },
  {
   "cell_type": "markdown",
   "id": "2d8937a3",
   "metadata": {},
   "source": [
    "hipótese nula: a distribuição do valor da conta é igual no sábado e no domingo"
   ]
  },
  {
   "cell_type": "markdown",
   "id": "2bc95616",
   "metadata": {},
   "source": [
    "hipótese alt: a distribuição do valor da conta NÃO é igual no sábado e no domingo"
   ]
  },
  {
   "cell_type": "code",
   "execution_count": 48,
   "id": "f2311bd0",
   "metadata": {},
   "outputs": [
    {
     "data": {
      "text/plain": [
       "0      16.99\n",
       "1      10.34\n",
       "2      21.01\n",
       "3      23.68\n",
       "4      24.59\n",
       "       ...  \n",
       "186    20.90\n",
       "187    30.46\n",
       "188    18.15\n",
       "189    23.10\n",
       "190    15.69\n",
       "Name: conta_total, Length: 76, dtype: float64"
      ]
     },
     "execution_count": 48,
     "metadata": {},
     "output_type": "execute_result"
    }
   ],
   "source": [
    "# query que retorna a coluna 'conta_total', mas apenas se \"dia_da_semana == 'Domingo'\"\n",
    "conta_domingo = dft.query(\"dia_da_semana == 'Domingo'\").conta_total\n",
    "conta_domingo"
   ]
  },
  {
   "cell_type": "code",
   "execution_count": 140,
   "id": "5d50e3d1",
   "metadata": {},
   "outputs": [
    {
     "data": {
      "text/plain": [
       "19     20.65\n",
       "20     17.92\n",
       "21     20.29\n",
       "22     15.77\n",
       "23     39.42\n",
       "       ...  \n",
       "238    35.83\n",
       "239    29.03\n",
       "240    27.18\n",
       "241    22.67\n",
       "242    17.82\n",
       "Name: conta_total, Length: 87, dtype: float64"
      ]
     },
     "execution_count": 140,
     "metadata": {},
     "output_type": "execute_result"
    }
   ],
   "source": [
    "# query que retorna a coluna 'conta_total', mas apenas se \"dia_da_semana == 'Sábado'\"\n",
    "conta_sabado = dft.query(\"dia_da_semana == 'Sábado'\").conta_total\n",
    "conta_sabado"
   ]
  },
  {
   "cell_type": "code",
   "execution_count": 144,
   "id": "dbbff5f3",
   "metadata": {},
   "outputs": [
    {
     "name": "stdout",
     "output_type": "stream",
     "text": [
      "O pvalue é 0.3576728477868443\n"
     ]
    }
   ],
   "source": [
    "rs_dia_da_semana = ranksums(conta_sabado, conta_domingo)[1]\n",
    "print(f'O pvalue é {rs_dia_da_semana}')"
   ]
  },
  {
   "cell_type": "markdown",
   "id": "1cc58b4b",
   "metadata": {},
   "source": [
    "pvalue = 0,35, o que significa que pvalue > 0,05, ou seja, NÃO podemos aceitar a H alt"
   ]
  },
  {
   "cell_type": "markdown",
   "id": "7655b283",
   "metadata": {},
   "source": [
    "# Análise 4: horário "
   ]
  },
  {
   "cell_type": "markdown",
   "id": "f543f615",
   "metadata": {},
   "source": [
    "Analisando a hora do dia, se tem diferença quando é jantar ou almoço em relação à gorjeta."
   ]
  },
  {
   "cell_type": "markdown",
   "id": "506f783c",
   "metadata": {},
   "source": [
    "## Análise descritiva e visual"
   ]
  },
  {
   "cell_type": "code",
   "execution_count": 145,
   "id": "e402cf24",
   "metadata": {},
   "outputs": [
    {
     "data": {
      "text/html": [
       "<div>\n",
       "<style scoped>\n",
       "    .dataframe tbody tr th:only-of-type {\n",
       "        vertical-align: middle;\n",
       "    }\n",
       "\n",
       "    .dataframe tbody tr th {\n",
       "        vertical-align: top;\n",
       "    }\n",
       "\n",
       "    .dataframe thead th {\n",
       "        text-align: right;\n",
       "    }\n",
       "</style>\n",
       "<table border=\"1\" class=\"dataframe\">\n",
       "  <thead>\n",
       "    <tr style=\"text-align: right;\">\n",
       "      <th></th>\n",
       "      <th>conta_total</th>\n",
       "      <th>gorjeta</th>\n",
       "      <th>sobremesa</th>\n",
       "      <th>dia_da_semana</th>\n",
       "      <th>horário</th>\n",
       "      <th>pessoas_na_mesa</th>\n",
       "      <th>porcentagem</th>\n",
       "    </tr>\n",
       "  </thead>\n",
       "  <tbody>\n",
       "    <tr>\n",
       "      <th>0</th>\n",
       "      <td>16.99</td>\n",
       "      <td>1.01</td>\n",
       "      <td>Não</td>\n",
       "      <td>Domingo</td>\n",
       "      <td>Jantar</td>\n",
       "      <td>2</td>\n",
       "      <td>0.06</td>\n",
       "    </tr>\n",
       "    <tr>\n",
       "      <th>1</th>\n",
       "      <td>10.34</td>\n",
       "      <td>1.66</td>\n",
       "      <td>Não</td>\n",
       "      <td>Domingo</td>\n",
       "      <td>Jantar</td>\n",
       "      <td>3</td>\n",
       "      <td>0.16</td>\n",
       "    </tr>\n",
       "    <tr>\n",
       "      <th>2</th>\n",
       "      <td>21.01</td>\n",
       "      <td>3.50</td>\n",
       "      <td>Não</td>\n",
       "      <td>Domingo</td>\n",
       "      <td>Jantar</td>\n",
       "      <td>3</td>\n",
       "      <td>0.17</td>\n",
       "    </tr>\n",
       "    <tr>\n",
       "      <th>3</th>\n",
       "      <td>23.68</td>\n",
       "      <td>3.31</td>\n",
       "      <td>Não</td>\n",
       "      <td>Domingo</td>\n",
       "      <td>Jantar</td>\n",
       "      <td>2</td>\n",
       "      <td>0.14</td>\n",
       "    </tr>\n",
       "    <tr>\n",
       "      <th>4</th>\n",
       "      <td>24.59</td>\n",
       "      <td>3.61</td>\n",
       "      <td>Não</td>\n",
       "      <td>Domingo</td>\n",
       "      <td>Jantar</td>\n",
       "      <td>4</td>\n",
       "      <td>0.15</td>\n",
       "    </tr>\n",
       "  </tbody>\n",
       "</table>\n",
       "</div>"
      ],
      "text/plain": [
       "   conta_total  gorjeta sobremesa dia_da_semana horário  pessoas_na_mesa  \\\n",
       "0        16.99     1.01       Não       Domingo  Jantar                2   \n",
       "1        10.34     1.66       Não       Domingo  Jantar                3   \n",
       "2        21.01     3.50       Não       Domingo  Jantar                3   \n",
       "3        23.68     3.31       Não       Domingo  Jantar                2   \n",
       "4        24.59     3.61       Não       Domingo  Jantar                4   \n",
       "\n",
       "   porcentagem  \n",
       "0         0.06  \n",
       "1         0.16  \n",
       "2         0.17  \n",
       "3         0.14  \n",
       "4         0.15  "
      ]
     },
     "execution_count": 145,
     "metadata": {},
     "output_type": "execute_result"
    }
   ],
   "source": [
    "#relembrando\n",
    "dft.head()"
   ]
  },
  {
   "cell_type": "code",
   "execution_count": 146,
   "id": "d9de12bb",
   "metadata": {},
   "outputs": [
    {
     "data": {
      "text/plain": [
       "array(['Jantar', 'Almoço'], dtype=object)"
      ]
     },
     "execution_count": 146,
     "metadata": {},
     "output_type": "execute_result"
    }
   ],
   "source": [
    "dft['horário'].unique()  # mostra os dados únicos da coluna 'horario'"
   ]
  },
  {
   "cell_type": "code",
   "execution_count": 53,
   "id": "84eeba3a",
   "metadata": {},
   "outputs": [
    {
     "data": {
      "text/plain": [
       "<seaborn.axisgrid.FacetGrid at 0x16e3ea38370>"
      ]
     },
     "execution_count": 53,
     "metadata": {},
     "output_type": "execute_result"
    },
    {
     "data": {
      "image/png": "[encoded data removed]",
      "text/plain": [
       "<Figure size 360x360 with 1 Axes>"
      ]
     },
     "metadata": {
      "needs_background": "light"
     },
     "output_type": "display_data"
    }
   ],
   "source": [
    "sns.catplot(x='horário', y='conta_total', data=dft)"
   ]
  },
  {
   "cell_type": "markdown",
   "id": "f4bab5fa",
   "metadata": {},
   "source": [
    "aparentementme o valor da conta no jantar é maior que no almoço"
   ]
  },
  {
   "cell_type": "code",
   "execution_count": 54,
   "id": "dd9bad9d",
   "metadata": {},
   "outputs": [
    {
     "data": {
      "text/plain": [
       "<seaborn.axisgrid.FacetGrid at 0x16e3ea8e220>"
      ]
     },
     "execution_count": 54,
     "metadata": {},
     "output_type": "execute_result"
    },
    {
     "data": {
      "image/png": "[encoded data removed]",
      "text/plain": [
       "<Figure size 360x360 with 1 Axes>"
      ]
     },
     "metadata": {
      "needs_background": "light"
     },
     "output_type": "display_data"
    }
   ],
   "source": [
    "sns.catplot(x='horário', y='conta_total', kind='swarm', data=dft)"
   ]
  },
  {
   "cell_type": "markdown",
   "id": "79f6a1c1",
   "metadata": {},
   "source": [
    "esse tipo dá uma espalhada"
   ]
  },
  {
   "cell_type": "code",
   "execution_count": 55,
   "id": "a0639773",
   "metadata": {},
   "outputs": [
    {
     "data": {
      "text/plain": [
       "<AxesSubplot:xlabel='horário', ylabel='conta_total'>"
      ]
     },
     "execution_count": 55,
     "metadata": {},
     "output_type": "execute_result"
    },
    {
     "data": {
      "image/png": "[encoded data removed]",
      "text/plain": [
       "<Figure size 432x288 with 1 Axes>"
      ]
     },
     "metadata": {
      "needs_background": "light"
     },
     "output_type": "display_data"
    }
   ],
   "source": [
    "sns.violinplot(x='horário', y='conta_total', data=dft)"
   ]
  },
  {
   "cell_type": "code",
   "execution_count": 56,
   "id": "bcf6d919",
   "metadata": {},
   "outputs": [
    {
     "data": {
      "text/plain": [
       "<AxesSubplot:xlabel='horário', ylabel='conta_total'>"
      ]
     },
     "execution_count": 56,
     "metadata": {},
     "output_type": "execute_result"
    },
    {
     "data": {
      "image/png": "[encoded data removed]",
      "text/plain": [
       "<Figure size 432x288 with 1 Axes>"
      ]
     },
     "metadata": {
      "needs_background": "light"
     },
     "output_type": "display_data"
    }
   ],
   "source": [
    "sns.boxplot(x='horário', y='conta_total', data=dft)"
   ]
  },
  {
   "cell_type": "markdown",
   "id": "474ab096",
   "metadata": {},
   "source": [
    "### Queries:"
   ]
  },
  {
   "cell_type": "code",
   "execution_count": 57,
   "id": "0d47d9e4",
   "metadata": {},
   "outputs": [
    {
     "data": {
      "text/plain": [
       "77     27.20\n",
       "78     22.76\n",
       "79     17.29\n",
       "80     19.44\n",
       "81     16.66\n",
       "       ...  \n",
       "222     8.58\n",
       "223    15.98\n",
       "224    13.42\n",
       "225    16.27\n",
       "226    10.09\n",
       "Name: conta_total, Length: 68, dtype: float64"
      ]
     },
     "execution_count": 57,
     "metadata": {},
     "output_type": "execute_result"
    }
   ],
   "source": [
    "almoço = dft.query(\"horário == 'Almoço'\")['conta_total']\n",
    "almoço\n",
    "#query dos itens horário == almoço"
   ]
  },
  {
   "cell_type": "code",
   "execution_count": 58,
   "id": "8b0fc3d4",
   "metadata": {},
   "outputs": [
    {
     "data": {
      "text/plain": [
       "0      16.99\n",
       "1      10.34\n",
       "2      21.01\n",
       "3      23.68\n",
       "4      24.59\n",
       "       ...  \n",
       "239    29.03\n",
       "240    27.18\n",
       "241    22.67\n",
       "242    17.82\n",
       "243    18.78\n",
       "Name: conta_total, Length: 176, dtype: float64"
      ]
     },
     "execution_count": 58,
     "metadata": {},
     "output_type": "execute_result"
    }
   ],
   "source": [
    "jantar = dft.query(\"horário == 'Jantar'\")['conta_total']\n",
    "jantar\n",
    "#query dos itens horário == jantar"
   ]
  },
  {
   "cell_type": "markdown",
   "id": "85181139",
   "metadata": {},
   "source": [
    "#### Gráficos das queries:"
   ]
  },
  {
   "cell_type": "code",
   "execution_count": 59,
   "id": "28f78833",
   "metadata": {},
   "outputs": [
    {
     "data": {
      "text/plain": [
       "<seaborn.axisgrid.FacetGrid at 0x16e3f25dac0>"
      ]
     },
     "execution_count": 59,
     "metadata": {},
     "output_type": "execute_result"
    },
    {
     "data": {
      "image/png": "[encoded data removed]",
      "text/plain": [
       "<Figure size 360x360 with 1 Axes>"
      ]
     },
     "metadata": {
      "needs_background": "light"
     },
     "output_type": "display_data"
    }
   ],
   "source": [
    "sns.displot(almoço)"
   ]
  },
  {
   "cell_type": "code",
   "execution_count": 60,
   "id": "198189d8",
   "metadata": {},
   "outputs": [
    {
     "data": {
      "text/plain": [
       "<seaborn.axisgrid.FacetGrid at 0x16e3f29fa90>"
      ]
     },
     "execution_count": 60,
     "metadata": {},
     "output_type": "execute_result"
    },
    {
     "data": {
      "image/png": "[encoded data removed]",
      "text/plain": [
       "<Figure size 360x360 with 1 Axes>"
      ]
     },
     "metadata": {
      "needs_background": "light"
     },
     "output_type": "display_data"
    }
   ],
   "source": [
    "sns.displot(jantar)"
   ]
  },
  {
   "cell_type": "markdown",
   "id": "e218cff5",
   "metadata": {},
   "source": [
    "## Testes de hipótese"
   ]
  },
  {
   "cell_type": "markdown",
   "id": "edb6c255",
   "metadata": {},
   "source": [
    "### Teste de hipótese 1: horário"
   ]
  },
  {
   "cell_type": "code",
   "execution_count": 71,
   "id": "95fde558",
   "metadata": {},
   "outputs": [
    {
     "data": {
      "text/html": [
       "<div>\n",
       "<style scoped>\n",
       "    .dataframe tbody tr th:only-of-type {\n",
       "        vertical-align: middle;\n",
       "    }\n",
       "\n",
       "    .dataframe tbody tr th {\n",
       "        vertical-align: top;\n",
       "    }\n",
       "\n",
       "    .dataframe thead th {\n",
       "        text-align: right;\n",
       "    }\n",
       "</style>\n",
       "<table border=\"1\" class=\"dataframe\">\n",
       "  <thead>\n",
       "    <tr style=\"text-align: right;\">\n",
       "      <th></th>\n",
       "      <th>conta_total</th>\n",
       "      <th>gorjeta</th>\n",
       "      <th>porcentagem</th>\n",
       "    </tr>\n",
       "    <tr>\n",
       "      <th>horário</th>\n",
       "      <th></th>\n",
       "      <th></th>\n",
       "      <th></th>\n",
       "    </tr>\n",
       "  </thead>\n",
       "  <tbody>\n",
       "    <tr>\n",
       "      <th>Almoço</th>\n",
       "      <td>17.17</td>\n",
       "      <td>2.73</td>\n",
       "      <td>0.16</td>\n",
       "    </tr>\n",
       "    <tr>\n",
       "      <th>Jantar</th>\n",
       "      <td>20.80</td>\n",
       "      <td>3.10</td>\n",
       "      <td>0.16</td>\n",
       "    </tr>\n",
       "  </tbody>\n",
       "</table>\n",
       "</div>"
      ],
      "text/plain": [
       "         conta_total  gorjeta  porcentagem\n",
       "horário                                   \n",
       "Almoço         17.17     2.73         0.16\n",
       "Jantar         20.80     3.10         0.16"
      ]
     },
     "execution_count": 71,
     "metadata": {},
     "output_type": "execute_result"
    }
   ],
   "source": [
    "dft.groupby('horário').mean().round(2)[['conta_total', 'gorjeta', 'porcentagem']]\n",
    "# retorna a média da conta, gorjeta e porcentagem dos grupos (groupby) Almoço e Jantar"
   ]
  },
  {
   "cell_type": "markdown",
   "id": "b107b82e",
   "metadata": {},
   "source": [
    "Teste de hipótese: verificar se há diferença entre o valor da conta no jantar e almoço"
   ]
  },
  {
   "cell_type": "markdown",
   "id": "64a18d2e",
   "metadata": {},
   "source": [
    "Hipótese nula: a distribuição do valor da conta é igual no jantar e no almoço"
   ]
  },
  {
   "cell_type": "markdown",
   "id": "297d5aec",
   "metadata": {},
   "source": [
    "Hipótese alt: a distribuição do valor da conta NÃO é igual no jantar e no almoço"
   ]
  },
  {
   "cell_type": "code",
   "execution_count": 83,
   "id": "1355a5f0",
   "metadata": {},
   "outputs": [
    {
     "name": "stdout",
     "output_type": "stream",
     "text": [
      "O pvalue é 0.0011791039723641672\n"
     ]
    }
   ],
   "source": [
    "rs_jantar_almoço = ranksums(jantar, almoço)[1]\n",
    "print(f'O pvalue é {rs_jantar_almoço}')"
   ]
  },
  {
   "cell_type": "markdown",
   "id": "a95d4044",
   "metadata": {},
   "source": [
    "pvalue = 0,001, o que significa que pvalue < 0,05, ou seja, podemos SIM aceitar a H alt"
   ]
  },
  {
   "cell_type": "markdown",
   "id": "fe5a93d6",
   "metadata": {},
   "source": [
    "### Teste de hipótese 2: porcentagem do horário"
   ]
  },
  {
   "cell_type": "markdown",
   "id": "ef0d3d9e",
   "metadata": {},
   "source": [
    "Teste de hipótese: verificar se há diferença entre a porcentagem da gorjeta no jantar e almoço"
   ]
  },
  {
   "cell_type": "markdown",
   "id": "72677735",
   "metadata": {},
   "source": [
    "Hipótese nula: a distribuição da taxa da gorjeta é igual no jantar e no almoço"
   ]
  },
  {
   "cell_type": "markdown",
   "id": "62f19024",
   "metadata": {},
   "source": [
    "Hipótese alt: a distribuição da taxa da gorjeta NÃO é igual no jantar e no almoço"
   ]
  },
  {
   "cell_type": "markdown",
   "id": "435b7279",
   "metadata": {},
   "source": [
    "#### Queries:"
   ]
  },
  {
   "cell_type": "code",
   "execution_count": 79,
   "id": "73bfa682",
   "metadata": {},
   "outputs": [],
   "source": [
    "porcentagem_almoço = dft.query(\"horário == 'Almoço'\")['porcentagem']"
   ]
  },
  {
   "cell_type": "code",
   "execution_count": 80,
   "id": "e1823a38",
   "metadata": {},
   "outputs": [],
   "source": [
    "porcentagem_jantar = dft.query(\"horário == 'Jantar'\")['porcentagem']"
   ]
  },
  {
   "cell_type": "code",
   "execution_count": 84,
   "id": "b0f102a0",
   "metadata": {},
   "outputs": [
    {
     "name": "stdout",
     "output_type": "stream",
     "text": [
      "O pvalue é 0.2602493995587126\n"
     ]
    }
   ],
   "source": [
    "rs_pcent_jantar_almoço = ranksums(porcentagem_almoço, porcentagem_jantar)[1]\n",
    "print(f'O pvalue é {rs_pcent_jantar_almoço}')"
   ]
  },
  {
   "cell_type": "markdown",
   "id": "bdab8e8e",
   "metadata": {},
   "source": [
    "pvalue = 0,26, o que significa que pvalue > 0,05, ou seja, NÃO podemos aceitar a H alt"
   ]
  }
 ],
 "metadata": {
  "kernelspec": {
   "display_name": "Python 3 (ipykernel)",
   "language": "python",
   "name": "python3"
  },
  "language_info": {
   "codemirror_mode": {
    "name": "ipython",
    "version": 3
   },
   "file_extension": ".py",
   "mimetype": "text/x-python",
   "name": "python",
   "nbconvert_exporter": "python",
   "pygments_lexer": "ipython3",
   "version": "3.9.7"
  }
 },
 "nbformat": 4,
 "nbformat_minor": 5
}
